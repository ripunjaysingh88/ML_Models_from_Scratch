{
  "nbformat": 4,
  "nbformat_minor": 0,
  "metadata": {
    "colab": {
      "name": "Decision_Tree.ipynb",
      "provenance": [],
      "collapsed_sections": [],
      "authorship_tag": "ABX9TyNLv2PU8vIC4neaJ6jzkfOi",
      "include_colab_link": true
    },
    "kernelspec": {
      "name": "python3",
      "display_name": "Python 3"
    },
    "language_info": {
      "name": "python"
    }
  },
  "cells": [
    {
      "cell_type": "markdown",
      "metadata": {
        "id": "view-in-github",
        "colab_type": "text"
      },
      "source": [
        "<a href=\"https://colab.research.google.com/github/ripunjaysingh88/ML_Models_from_Scratch/blob/main/Decision_Tree.ipynb\" target=\"_parent\"><img src=\"https://colab.research.google.com/assets/colab-badge.svg\" alt=\"Open In Colab\"/></a>"
      ]
    },
    {
      "cell_type": "code",
      "metadata": {
        "colab": {
          "base_uri": "https://localhost:8080/"
        },
        "id": "DBQBv8SdVlYF",
        "outputId": "9d964481-6abd-4137-b173-81ecedac68d3"
      },
      "source": [
        "from google.colab import drive\n",
        "drive.mount('/content/grive')"
      ],
      "execution_count": 40,
      "outputs": [
        {
          "output_type": "stream",
          "name": "stdout",
          "text": [
            "Mounted at /content/grive\n"
          ]
        }
      ]
    },
    {
      "cell_type": "code",
      "metadata": {
        "id": "EeAxG2yYWUs4"
      },
      "source": [
        "import matplotlib.pyplot as plt\n",
        "import pandas as pd\n",
        "import numpy as np\n",
        "from sklearn.datasets import load_iris\n",
        "from sklearn.model_selection import train_test_split\n",
        "from sklearn.metrics import accuracy_score, classification_report"
      ],
      "execution_count": 35,
      "outputs": []
    },
    {
      "cell_type": "code",
      "metadata": {
        "id": "WU-Bb96YW0iq"
      },
      "source": [
        "iris = load_iris()"
      ],
      "execution_count": 3,
      "outputs": []
    },
    {
      "cell_type": "code",
      "metadata": {
        "colab": {
          "base_uri": "https://localhost:8080/"
        },
        "id": "sUmyd_6EXCGe",
        "outputId": "d3bcdd6f-e5f9-4ca2-d5a1-730f84859fef"
      },
      "source": [
        "original_X = iris.data\n",
        "original_X.shape"
      ],
      "execution_count": 4,
      "outputs": [
        {
          "output_type": "execute_result",
          "data": {
            "text/plain": [
              "(150, 4)"
            ]
          },
          "metadata": {},
          "execution_count": 4
        }
      ]
    },
    {
      "cell_type": "code",
      "metadata": {
        "colab": {
          "base_uri": "https://localhost:8080/"
        },
        "id": "jISl6k4QXsp6",
        "outputId": "be361dc5-df41-4190-c786-7fcaa44b47ad"
      },
      "source": [
        "original_X.dtype"
      ],
      "execution_count": 5,
      "outputs": [
        {
          "output_type": "execute_result",
          "data": {
            "text/plain": [
              "dtype('float64')"
            ]
          },
          "metadata": {},
          "execution_count": 5
        }
      ]
    },
    {
      "cell_type": "code",
      "metadata": {
        "colab": {
          "base_uri": "https://localhost:8080/"
        },
        "id": "kHskTKp2XEs-",
        "outputId": "2ca32ea0-9bde-4f71-bc34-1da8a8a97791"
      },
      "source": [
        "y = iris.target\n",
        "y.shape"
      ],
      "execution_count": 6,
      "outputs": [
        {
          "output_type": "execute_result",
          "data": {
            "text/plain": [
              "(150,)"
            ]
          },
          "metadata": {},
          "execution_count": 6
        }
      ]
    },
    {
      "cell_type": "code",
      "metadata": {
        "colab": {
          "base_uri": "https://localhost:8080/"
        },
        "id": "Bxf5uscxXnqt",
        "outputId": "856fe876-b5a4-4ba2-a2d6-d051cd391c1b"
      },
      "source": [
        "y.dtype"
      ],
      "execution_count": 7,
      "outputs": [
        {
          "output_type": "execute_result",
          "data": {
            "text/plain": [
              "dtype('int64')"
            ]
          },
          "metadata": {},
          "execution_count": 7
        }
      ]
    },
    {
      "cell_type": "code",
      "metadata": {
        "colab": {
          "base_uri": "https://localhost:8080/"
        },
        "id": "_AclvoZlXptu",
        "outputId": "c5a83a8c-139d-41b3-b087-6bd7bd6d3f53"
      },
      "source": [
        "iris.target_names"
      ],
      "execution_count": 8,
      "outputs": [
        {
          "output_type": "execute_result",
          "data": {
            "text/plain": [
              "array(['setosa', 'versicolor', 'virginica'], dtype='<U10')"
            ]
          },
          "metadata": {},
          "execution_count": 8
        }
      ]
    },
    {
      "cell_type": "code",
      "metadata": {
        "colab": {
          "base_uri": "https://localhost:8080/"
        },
        "id": "lDNsQ1sUXyEO",
        "outputId": "6125c144-898e-4686-e053-f0aa6fb8ba9c"
      },
      "source": [
        "original_X[1]"
      ],
      "execution_count": 9,
      "outputs": [
        {
          "output_type": "execute_result",
          "data": {
            "text/plain": [
              "array([4.9, 3. , 1.4, 0.2])"
            ]
          },
          "metadata": {},
          "execution_count": 9
        }
      ]
    },
    {
      "cell_type": "code",
      "metadata": {
        "id": "4mXH_6R6YYU-"
      },
      "source": [
        "X_train, X_test, y_train, y_test = train_test_split(original_X, y, test_size = 0.20, random_state=42)"
      ],
      "execution_count": 10,
      "outputs": []
    },
    {
      "cell_type": "code",
      "metadata": {
        "colab": {
          "base_uri": "https://localhost:8080/"
        },
        "id": "Mr7oVby9ZAQn",
        "outputId": "a137c161-ae0d-458e-cd01-6e2fee264005"
      },
      "source": [
        "X_train.shape , X_test.shape"
      ],
      "execution_count": 11,
      "outputs": [
        {
          "output_type": "execute_result",
          "data": {
            "text/plain": [
              "((120, 4), (30, 4))"
            ]
          },
          "metadata": {},
          "execution_count": 11
        }
      ]
    },
    {
      "cell_type": "code",
      "metadata": {
        "colab": {
          "base_uri": "https://localhost:8080/"
        },
        "id": "psymzkGrCnb9",
        "outputId": "8da590a0-1737-470a-fbe9-746f3ccb06cc"
      },
      "source": [
        "y_train"
      ],
      "execution_count": 12,
      "outputs": [
        {
          "output_type": "execute_result",
          "data": {
            "text/plain": [
              "array([0, 0, 1, 0, 0, 2, 1, 0, 0, 0, 2, 1, 1, 0, 0, 1, 2, 2, 1, 2, 1, 2,\n",
              "       1, 0, 2, 1, 0, 0, 0, 1, 2, 0, 0, 0, 1, 0, 1, 2, 0, 1, 2, 0, 2, 2,\n",
              "       1, 1, 2, 1, 0, 1, 2, 0, 0, 1, 1, 0, 2, 0, 0, 1, 1, 2, 1, 2, 2, 1,\n",
              "       0, 0, 2, 2, 0, 0, 0, 1, 2, 0, 2, 2, 0, 1, 1, 2, 1, 2, 0, 2, 1, 2,\n",
              "       1, 1, 1, 0, 1, 1, 0, 1, 2, 2, 0, 1, 2, 2, 0, 2, 0, 1, 2, 2, 1, 2,\n",
              "       1, 1, 2, 2, 0, 1, 2, 0, 1, 2])"
            ]
          },
          "metadata": {},
          "execution_count": 12
        }
      ]
    },
    {
      "cell_type": "code",
      "metadata": {
        "colab": {
          "base_uri": "https://localhost:8080/"
        },
        "id": "bl9ZrRZzC93E",
        "outputId": "c37be112-dd3f-4523-f317-34ddc9d379b2"
      },
      "source": [
        "#gini_impurity\n",
        "arr = (np.bincount(y_train)/len(y_train))**2\n",
        "print(arr)\n",
        "print()\n",
        "1-np.sum(arr)"
      ],
      "execution_count": 13,
      "outputs": [
        {
          "output_type": "stream",
          "name": "stdout",
          "text": [
            "[0.11111111 0.11673611 0.105625  ]\n",
            "\n"
          ]
        },
        {
          "output_type": "execute_result",
          "data": {
            "text/plain": [
              "0.6665277777777778"
            ]
          },
          "metadata": {},
          "execution_count": 13
        }
      ]
    },
    {
      "cell_type": "code",
      "metadata": {
        "id": "XkZqk2NJ73ZA"
      },
      "source": [
        "class Node:\n",
        "  #internal nodes will have 'best split feature' on which decision are made. 'best threshold' is used in separating the data- left and right.\n",
        "  #left and right stores address of the child node(tree).\n",
        "  #When we are at leaf node then we need to store the most common classs label which we store in 'value'.\n",
        "  def __init__(self, feature=None, threshold=None, left=None, right=None, value=None):\n",
        "    self.feature = feature\n",
        "    self.threshold = threshold\n",
        "    self.left = left\n",
        "    self.right = right\n",
        "    self.value = value\n",
        "\n",
        "  \n",
        "\n",
        "class DecisionTree:\n",
        "  def __init__(self, min_samples_split, max_depth):\n",
        "    self.min_samples_split = min_samples_split\n",
        "    self.max_depth = max_depth\n",
        "    self.root = None # need to know the root to traverse the tree latter for predicting samples.\n",
        "  \n",
        "  def most_common_label(self,y):\n",
        "    return np.argmax(np.bincount(y))\n",
        "  \n",
        "  #lower the better\n",
        "  def gini_impurity(self, y):\n",
        "    arr = (np.bincount(y)/len(y))**2\n",
        "    gini = 1 - np.sum(arr)\n",
        "    return gini\n",
        "  \n",
        "  def split(self, X_column, threshold):\n",
        "    # it stores 'list' not ndarray, we use this list to access numpy array.\n",
        "    left_idx =  [index for index, value in enumerate(X_column) if value <= threshold]\n",
        "    right_idx = [index for index, value in enumerate(X_column) if value > threshold] \n",
        "    return left_idx , right_idx\n",
        "  \n",
        "  def information_gain(self, X_column, y, threshold):\n",
        "    #gini impurity of parent node\n",
        "    gini_parent = self.gini_impurity(y)\n",
        "    \n",
        "    #split our data based on current feature(X_column) and particular 'threshold' value to calculate gini impurity of child nodes.\n",
        "    left_index , right_index = self.split(X_column, threshold)\n",
        "    if len(left_index) == 0 or len(right_index)==0 :\n",
        "      return 0\n",
        "\n",
        "    left_y = y[left_index]\n",
        "    right_y = y[right_index]\n",
        "\n",
        "    #gini impurity of child nodes\n",
        "    gini_left_child = self.gini_impurity(left_y)\n",
        "    gini_right_child = self.gini_impurity(right_y)\n",
        "\n",
        "    #information gain \n",
        "    n_left = len(left_y)/len(y)\n",
        "    n_right = len(right_y)/len(y)\n",
        "    info_gain = gini_parent - ((n_left * gini_left_child) + (n_right * gini_right_child))\n",
        "    return info_gain\n",
        "\n",
        "  \n",
        "  def best_criteria(self, X, y, feature_index):\n",
        "    best_gain = -1 #gain range -> [0,1]\n",
        "    best_feat , best_thresh = None, None\n",
        "\n",
        "    for feat_index in feature_index:\n",
        "      X_column = X[:, feat_index] #selecting particular column with all the samples.\n",
        "      threshold_list = np.unique(X_column) # only unique values of column are selected.\n",
        "      for threshold in threshold_list:\n",
        "        #calculate info_gain on a particular feature with the particular threshold.\n",
        "        #to calculate info_gain we need to calculate gini_impurity so 'y' passed.\n",
        "        info_gain = self.information_gain(X_column, y, threshold) \n",
        "        if info_gain > best_gain:\n",
        "          best_gain = info_gain\n",
        "          best_feat= feat_index\n",
        "          best_thresh = threshold\n",
        "    return best_feat, best_thresh  \n",
        "\n",
        "\n",
        "  def build_tree(self, X, y, depth = 0):\n",
        "    n_samples , n_features = X.shape\n",
        "    n_labels = len(np.unique(y))  #number of  classes e.g. binary classification or muticlass-classfication\n",
        "\n",
        "    #stopping  criteria, if any condition satisfies then we reached leaf node.\n",
        "    #depth starts from 0(so equality is used). If depth < max_depth, keep building tree else stop it and return leaf node.\n",
        "    #n_labels, if a node has all the samples of same class then stop building tree as it's pure node. \n",
        "    if (depth>=self.max_depth or n_samples < self.min_samples_split or n_labels == 1):\n",
        "      leaf_value = self.most_common_label(y)\n",
        "      return Node(value = leaf_value)\n",
        "\n",
        "    #'to select feature randomly' but it we will use all the features.Just oder in which it will select feature will be random.\n",
        "    #first parameter is range (0 to n_features)\n",
        "    #second parameter is number of random integers we want within that range.\n",
        "    #np.random.choice(5, 5, replace = False) -> array([0, 1, 4, 3, 2]) return 5 number in the range of 0-5 randomly.\n",
        "    #replace flase as we don't want the same feature to be checked again inoder ro find best_feature.\n",
        "    feature_index = np.random.choice(n_features, n_features, replace=False)\n",
        "\n",
        "    #it returns best feature(say X2(index will be 2 corrosponding to X2) out of {X0, X1, X2, ....,Xn})using which we split the data, \n",
        "    #which gives best gain in comparision to other features.\n",
        "    #X2 is be a feature which we make it as a 'decision node' to split our data.\n",
        "    #best threshold on which X2(best_feature) gave a maximum gain.\n",
        "    best_feature, best_threshold = self.best_criteria(X, y, feature_index)\n",
        "    \n",
        "    #next to build our left and right tree using these best feature and best threshold.\n",
        "    #get left_index and right_index to send new 'X' to build child trees.\n",
        "    X_column = X[: , best_feature]\n",
        "    left_index, right_index = self.split(X_column, best_threshold)\n",
        "    #only particular rows with all columns\n",
        "    X_left , y_left = X[left_index , : ] , y[left_index]\n",
        "    X_right , y_right = X[right_index , :], y[right_index]\n",
        "    \n",
        "    #return value is stored bec we need to store the child trees.\n",
        "    left = self.build_tree(X_left, y_left, depth+1) \n",
        "    right = self.build_tree(X_right, y_right, depth+1)\n",
        "    #return internal node i.e the decision node.\n",
        "    return Node(best_feature, best_threshold, left, right, None) \n",
        "\n",
        "    \n",
        "  def fit(self, X, y):\n",
        "    #build the tree and store root node for traversing tree to predict.\n",
        "    self.root = self.build_tree(X, y)\n",
        "    #return self.root\n",
        "\n",
        "  def predict(self, X):\n",
        "    #traverse the tree to predict\n",
        "    #predicting one sample at a time. 'x' is one sample.\n",
        "    return np.array([self.traverse_tree(x, self.root) for x in X]) \n",
        "  \n",
        "  def traverse_tree(self, x, root):\n",
        "    #if leave node reached then return value\n",
        "    if root.value is not None:\n",
        "      return root.value\n",
        "    \n",
        "    #say if root.feature is 2 then we will select second feature from the 'x'.\n",
        "    feature_index = root.feature\n",
        "    feature_value = x[feature_index] #say x[2] is 11.\n",
        "    #call left sub-tree\n",
        "    if feature_value <= root.threshold:\n",
        "      return self.traverse_tree(x, root.left)\n",
        "    #call right-subtree\n",
        "    else:\n",
        "      return self.traverse_tree(x, root.right)\n"
      ],
      "execution_count": 28,
      "outputs": []
    },
    {
      "cell_type": "code",
      "metadata": {
        "id": "7HL-2OOSgBGr"
      },
      "source": [
        "#depth of tree should be 10 , minimum number of sample to split further should be 10 .\n",
        "decision_tree_clf = DecisionTree(10, 10) \n",
        "decision_tree_clf.fit(X_train, y_train)\n",
        "y_pred = decision_tree_clf.predict(X_test)"
      ],
      "execution_count": 49,
      "outputs": []
    },
    {
      "cell_type": "code",
      "metadata": {
        "colab": {
          "base_uri": "https://localhost:8080/"
        },
        "id": "onQryRZI0MOP",
        "outputId": "12812161-8fc2-4f6f-8686-f54d39ce4d99"
      },
      "source": [
        "print(\"Accuracy : {}\".format(accuracy_score(y_test, y_pred)))"
      ],
      "execution_count": 50,
      "outputs": [
        {
          "output_type": "stream",
          "name": "stdout",
          "text": [
            "Accuracy : 1.0\n"
          ]
        }
      ]
    },
    {
      "cell_type": "code",
      "metadata": {
        "colab": {
          "base_uri": "https://localhost:8080/"
        },
        "id": "Q3Je0NX-0OZz",
        "outputId": "2dd7c8d2-d78b-4daa-be62-372432787c3c"
      },
      "source": [
        "print(classification_report(y_test,y_pred))"
      ],
      "execution_count": 51,
      "outputs": [
        {
          "output_type": "stream",
          "name": "stdout",
          "text": [
            "              precision    recall  f1-score   support\n",
            "\n",
            "           0       1.00      1.00      1.00        10\n",
            "           1       1.00      1.00      1.00         9\n",
            "           2       1.00      1.00      1.00        11\n",
            "\n",
            "    accuracy                           1.00        30\n",
            "   macro avg       1.00      1.00      1.00        30\n",
            "weighted avg       1.00      1.00      1.00        30\n",
            "\n"
          ]
        }
      ]
    },
    {
      "cell_type": "code",
      "metadata": {
        "id": "0CRQyzCb1KmF"
      },
      "source": [
        "#sk-learn decision-tree\n",
        "from sklearn.tree import DecisionTreeClassifier\n",
        "clf = DecisionTreeClassifier(random_state=0)\n",
        "clf.fit(X_train, y_train)\n",
        "y_pred_sklearn = clf.predict(X_test)"
      ],
      "execution_count": 52,
      "outputs": []
    },
    {
      "cell_type": "code",
      "metadata": {
        "colab": {
          "base_uri": "https://localhost:8080/"
        },
        "id": "TqXnzQso1MMS",
        "outputId": "595f1d8c-8826-4ecc-a108-c0fb0cec58e2"
      },
      "source": [
        "print(\"Accuracy sklearn : {}\".format(accuracy_score(y_test, y_pred_sklearn)))"
      ],
      "execution_count": 53,
      "outputs": [
        {
          "output_type": "stream",
          "name": "stdout",
          "text": [
            "Accuracy sklearn : 1.0\n"
          ]
        }
      ]
    },
    {
      "cell_type": "code",
      "metadata": {
        "colab": {
          "base_uri": "https://localhost:8080/"
        },
        "id": "HwsPEz2D1Mv1",
        "outputId": "5492b099-ec06-44ad-dc4b-08b707c2c710"
      },
      "source": [
        "print(classification_report(y_test,y_pred_sklearn))"
      ],
      "execution_count": 54,
      "outputs": [
        {
          "output_type": "stream",
          "name": "stdout",
          "text": [
            "              precision    recall  f1-score   support\n",
            "\n",
            "           0       1.00      1.00      1.00        10\n",
            "           1       1.00      1.00      1.00         9\n",
            "           2       1.00      1.00      1.00        11\n",
            "\n",
            "    accuracy                           1.00        30\n",
            "   macro avg       1.00      1.00      1.00        30\n",
            "weighted avg       1.00      1.00      1.00        30\n",
            "\n"
          ]
        }
      ]
    },
    {
      "cell_type": "code",
      "metadata": {
        "id": "g_BW4Pqp0sre"
      },
      "source": [
        "#root = decision_tree_clf.fit(X_train, y_train)"
      ],
      "execution_count": 24,
      "outputs": []
    },
    {
      "cell_type": "code",
      "metadata": {
        "colab": {
          "base_uri": "https://localhost:8080/"
        },
        "id": "rot7mI4g01su",
        "outputId": "aff8d19a-da07-4c41-dfdb-4cff980c9a10"
      },
      "source": [
        "#root.threshold"
      ],
      "execution_count": 25,
      "outputs": [
        {
          "output_type": "execute_result",
          "data": {
            "text/plain": [
              "1.9"
            ]
          },
          "metadata": {},
          "execution_count": 25
        }
      ]
    },
    {
      "cell_type": "code",
      "metadata": {
        "colab": {
          "base_uri": "https://localhost:8080/"
        },
        "id": "ISXe9V8i1Npm",
        "outputId": "cfd2eecb-034c-4379-b894-d920c1aa91a2"
      },
      "source": [
        "#root.feature"
      ],
      "execution_count": 26,
      "outputs": [
        {
          "output_type": "execute_result",
          "data": {
            "text/plain": [
              "2"
            ]
          },
          "metadata": {},
          "execution_count": 26
        }
      ]
    },
    {
      "cell_type": "code",
      "metadata": {
        "colab": {
          "base_uri": "https://localhost:8080/"
        },
        "id": "X796HGWY1QZP",
        "outputId": "8db7b92a-cbcc-4347-eb40-fbd9e1e2f1f8"
      },
      "source": [
        "#root.left"
      ],
      "execution_count": 27,
      "outputs": [
        {
          "output_type": "execute_result",
          "data": {
            "text/plain": [
              "<__main__.Node at 0x7fd27a51a0d0>"
            ]
          },
          "metadata": {},
          "execution_count": 27
        }
      ]
    },
    {
      "cell_type": "code",
      "metadata": {
        "id": "Rm_u1f3Mzyp9"
      },
      "source": [
        ""
      ],
      "execution_count": null,
      "outputs": []
    }
  ]
}