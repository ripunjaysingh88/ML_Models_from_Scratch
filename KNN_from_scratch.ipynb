{
  "nbformat": 4,
  "nbformat_minor": 0,
  "metadata": {
    "colab": {
      "name": "KNN_from_scratch.ipynb",
      "provenance": [],
      "collapsed_sections": [],
      "authorship_tag": "ABX9TyN0mXME2gJZxAnhV+SnBgP4",
      "include_colab_link": true
    },
    "kernelspec": {
      "name": "python3",
      "display_name": "Python 3"
    },
    "language_info": {
      "name": "python"
    }
  },
  "cells": [
    {
      "cell_type": "markdown",
      "metadata": {
        "id": "view-in-github",
        "colab_type": "text"
      },
      "source": [
        "<a href=\"https://colab.research.google.com/github/ripunjaysingh88/ML_Model_from_Scratch/blob/main/KNN_from_scratch.ipynb\" target=\"_parent\"><img src=\"https://colab.research.google.com/assets/colab-badge.svg\" alt=\"Open In Colab\"/></a>"
      ]
    },
    {
      "cell_type": "code",
      "metadata": {
        "colab": {
          "base_uri": "https://localhost:8080/"
        },
        "id": "OsZL0M7E1W86",
        "outputId": "865c7e0c-8914-4c33-df57-a3ba69a95f70"
      },
      "source": [
        "from google.colab import drive\n",
        "drive.mount('/content/grive')"
      ],
      "execution_count": 2,
      "outputs": [
        {
          "output_type": "stream",
          "name": "stdout",
          "text": [
            "Mounted at /content/grive\n"
          ]
        }
      ]
    },
    {
      "cell_type": "code",
      "metadata": {
        "id": "gadJ8axJFib5"
      },
      "source": [
        "import matplotlib.pyplot as plt\n",
        "import pandas as pd\n",
        "import numpy as np\n",
        "from sklearn import datasets\n",
        "from sklearn.model_selection import train_test_split\n",
        "from collections import Counter\n",
        "from sklearn.metrics import classification_report, confusion_matrix,accuracy_score\n"
      ],
      "execution_count": 152,
      "outputs": []
    },
    {
      "cell_type": "code",
      "metadata": {
        "colab": {
          "base_uri": "https://localhost:8080/"
        },
        "id": "25G-pMueFv1r",
        "outputId": "bc4b4ab2-4e21-4743-9126-d9a86f30ae40"
      },
      "source": [
        "iris = datasets.load_iris()\n",
        "iris.data.shape "
      ],
      "execution_count": 195,
      "outputs": [
        {
          "output_type": "execute_result",
          "data": {
            "text/plain": [
              "(150, 4)"
            ]
          },
          "metadata": {},
          "execution_count": 195
        }
      ]
    },
    {
      "cell_type": "code",
      "metadata": {
        "colab": {
          "base_uri": "https://localhost:8080/"
        },
        "id": "dPafsJ5AFv8W",
        "outputId": "04e6758e-a8a9-455a-8000-7a32578b24c1"
      },
      "source": [
        "iris.feature_names"
      ],
      "execution_count": 196,
      "outputs": [
        {
          "output_type": "execute_result",
          "data": {
            "text/plain": [
              "['sepal length (cm)',\n",
              " 'sepal width (cm)',\n",
              " 'petal length (cm)',\n",
              " 'petal width (cm)']"
            ]
          },
          "metadata": {},
          "execution_count": 196
        }
      ]
    },
    {
      "cell_type": "code",
      "metadata": {
        "colab": {
          "base_uri": "https://localhost:8080/"
        },
        "id": "h7pNkRqGFwBl",
        "outputId": "d10ee1fe-ba5e-48f2-fe9f-a3c5095b1f51"
      },
      "source": [
        "iris.target_names"
      ],
      "execution_count": 197,
      "outputs": [
        {
          "output_type": "execute_result",
          "data": {
            "text/plain": [
              "array(['setosa', 'versicolor', 'virginica'], dtype='<U10')"
            ]
          },
          "metadata": {},
          "execution_count": 197
        }
      ]
    },
    {
      "cell_type": "code",
      "metadata": {
        "colab": {
          "base_uri": "https://localhost:8080/"
        },
        "id": "9KNpe7fqFwFd",
        "outputId": "d6dace1c-b511-4f3a-c97f-0f7559ce1867"
      },
      "source": [
        "X = iris.data[:, :2]\n",
        "X.shape"
      ],
      "execution_count": 198,
      "outputs": [
        {
          "output_type": "execute_result",
          "data": {
            "text/plain": [
              "(150, 2)"
            ]
          },
          "metadata": {},
          "execution_count": 198
        }
      ]
    },
    {
      "cell_type": "code",
      "metadata": {
        "colab": {
          "base_uri": "https://localhost:8080/"
        },
        "id": "HPfYk_NHFwJn",
        "outputId": "e6080327-c4fa-4d42-ec0d-dcb6d9d93ab8"
      },
      "source": [
        "y = iris.target\n",
        "y.shape"
      ],
      "execution_count": 199,
      "outputs": [
        {
          "output_type": "execute_result",
          "data": {
            "text/plain": [
              "(150,)"
            ]
          },
          "metadata": {},
          "execution_count": 199
        }
      ]
    },
    {
      "cell_type": "code",
      "metadata": {
        "colab": {
          "base_uri": "https://localhost:8080/",
          "height": 568
        },
        "id": "_u24kmdDFwRd",
        "outputId": "9a77949f-e168-4e4b-d6be-ac01b967ce48"
      },
      "source": [
        "plt.figure(figsize=(9,9))\n",
        "plt.scatter(X[:, 0], X[:,1], c = y)\n",
        "plt.xlabel('Sepel length')\n",
        "plt.ylabel('Sepel width')"
      ],
      "execution_count": 200,
      "outputs": [
        {
          "output_type": "execute_result",
          "data": {
            "text/plain": [
              "Text(0, 0.5, 'Sepel width')"
            ]
          },
          "metadata": {},
          "execution_count": 200
        },
        {
          "output_type": "display_data",
          "data": {
            "image/png": "[encoded data removed]",
            "text/plain": [
              "<Figure size 648x648 with 1 Axes>"
            ]
          },
          "metadata": {
            "needs_background": "light"
          }
        }
      ]
    },
    {
      "cell_type": "code",
      "metadata": {
        "id": "gwZjc-oeFwfw"
      },
      "source": [
        "X_train, X_test, y_train, y_test = train_test_split(X,y,test_size = 0.20, random_state=42)"
      ],
      "execution_count": 201,
      "outputs": []
    },
    {
      "cell_type": "code",
      "metadata": {
        "colab": {
          "base_uri": "https://localhost:8080/"
        },
        "id": "I10PpCPIFwo6",
        "outputId": "4bfa7350-1d19-45ff-f840-3f38c1c63949"
      },
      "source": [
        "X_train.shape , y_test.shape"
      ],
      "execution_count": 202,
      "outputs": [
        {
          "output_type": "execute_result",
          "data": {
            "text/plain": [
              "((120, 2), (30,))"
            ]
          },
          "metadata": {},
          "execution_count": 202
        }
      ]
    },
    {
      "cell_type": "code",
      "metadata": {
        "id": "6qMqV61iFw2d"
      },
      "source": [
        "class custom_KNN:\n",
        "  def __init__(self,k):\n",
        "    self.k = k\n",
        "  \n",
        "  def fit(self, X_train, y_train):\n",
        "    self.X_train = X_train\n",
        "    self.y_train = y_train\n",
        "  \n",
        "  def predict(self,X_test):\n",
        "\n",
        "    #calculate the distances using numpy for faster computation insted of for loops.\n",
        "     distances = np.sqrt(((X_test[:,np.newaxis]- self.X_train)**2). sum(axis=2))\n",
        "\n",
        "    # store the index of sorted distances matrix to access label from y_train\n",
        "     sorted_distances_index = np.argsort(distances, axis=1)\n",
        "\n",
        "     #get label\n",
        "     k_closet_distance = self.y_train[sorted_distances_index[ :, :self.k]].astype(int)\n",
        "\n",
        "     # majority voting to prredict the sample class \n",
        "     predicted_label = np.zeros(X_test.shape[0])\n",
        "     for i in range(X_test.shape[0]):\n",
        "       predicted_label[i] = np.argmax(np.bincount(k_closet_distance[i]))\n",
        "     return predicted_label\n"
      ],
      "execution_count": 203,
      "outputs": []
    },
    {
      "cell_type": "code",
      "metadata": {
        "id": "kw9LpBEJMaxk"
      },
      "source": [
        "knn = custom_KNN(6)\n",
        "knn.fit(X_train,y_train)\n",
        "y_pred = knn.predict(X_test)"
      ],
      "execution_count": 204,
      "outputs": []
    },
    {
      "cell_type": "code",
      "metadata": {
        "colab": {
          "base_uri": "https://localhost:8080/"
        },
        "id": "hXjb-DnfcMbh",
        "outputId": "374c4d6b-769e-46d9-e348-521f98b4473b"
      },
      "source": [
        "print(\"Accuracy : {}\".format(accuracy_score(y_test, y_pred)))"
      ],
      "execution_count": 205,
      "outputs": [
        {
          "output_type": "stream",
          "name": "stdout",
          "text": [
            "Accuracy : 0.7666666666666667\n"
          ]
        }
      ]
    },
    {
      "cell_type": "code",
      "metadata": {
        "colab": {
          "base_uri": "https://localhost:8080/"
        },
        "id": "MmwdGdG5cMfX",
        "outputId": "e36aaf78-95b8-4d0b-a162-743014fc3495"
      },
      "source": [
        "print(classification_report(y_test,y_pred))"
      ],
      "execution_count": 206,
      "outputs": [
        {
          "output_type": "stream",
          "name": "stdout",
          "text": [
            "              precision    recall  f1-score   support\n",
            "\n",
            "           0       1.00      1.00      1.00        10\n",
            "           1       0.58      0.78      0.67         9\n",
            "           2       0.75      0.55      0.63        11\n",
            "\n",
            "    accuracy                           0.77        30\n",
            "   macro avg       0.78      0.77      0.77        30\n",
            "weighted avg       0.78      0.77      0.76        30\n",
            "\n"
          ]
        }
      ]
    },
    {
      "cell_type": "code",
      "metadata": {
        "id": "aUAHKsO1eY5R"
      },
      "source": [
        "# comparing with sk-learn library\n",
        "from sklearn.neighbors import KNeighborsClassifier\n",
        "neigh = KNeighborsClassifier(n_neighbors=6)\n",
        "neigh.fit(X_train, y_train)\n",
        "sk_y_pred = neigh.predict(X_test)"
      ],
      "execution_count": 207,
      "outputs": []
    },
    {
      "cell_type": "code",
      "metadata": {
        "colab": {
          "base_uri": "https://localhost:8080/"
        },
        "id": "ClNfK89NeY-w",
        "outputId": "558a4556-8bab-4e95-c729-7428bc10afd0"
      },
      "source": [
        "print(\"Accuracy : {}\".format(accuracy_score(y_test,sk_y_pred)))"
      ],
      "execution_count": 208,
      "outputs": [
        {
          "output_type": "stream",
          "name": "stdout",
          "text": [
            "Accuracy : 0.7666666666666667\n"
          ]
        }
      ]
    },
    {
      "cell_type": "code",
      "metadata": {
        "colab": {
          "base_uri": "https://localhost:8080/"
        },
        "id": "qIcSq_-meZF2",
        "outputId": "47755f86-2eb6-42ca-a176-9919d09994b1"
      },
      "source": [
        "print(classification_report(y_test,sk_y_pred))"
      ],
      "execution_count": 209,
      "outputs": [
        {
          "output_type": "stream",
          "name": "stdout",
          "text": [
            "              precision    recall  f1-score   support\n",
            "\n",
            "           0       1.00      1.00      1.00        10\n",
            "           1       0.58      0.78      0.67         9\n",
            "           2       0.75      0.55      0.63        11\n",
            "\n",
            "    accuracy                           0.77        30\n",
            "   macro avg       0.78      0.77      0.77        30\n",
            "weighted avg       0.78      0.77      0.76        30\n",
            "\n"
          ]
        }
      ]
    },
    {
      "cell_type": "code",
      "metadata": {
        "id": "gPCG7gxYfovX"
      },
      "source": [
        ""
      ],
      "execution_count": 209,
      "outputs": []
    }
  ]
}