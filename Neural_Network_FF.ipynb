{
  "nbformat": 4,
  "nbformat_minor": 0,
  "metadata": {
    "colab": {
      "name": "Neural_Network_FF.ipynb",
      "provenance": [],
      "collapsed_sections": [],
      "authorship_tag": "ABX9TyMv2MpSoIwXLFLTnWugrhq1",
      "include_colab_link": true
    },
    "kernelspec": {
      "name": "python3",
      "display_name": "Python 3"
    },
    "language_info": {
      "name": "python"
    }
  },
  "cells": [
    {
      "cell_type": "markdown",
      "metadata": {
        "id": "view-in-github",
        "colab_type": "text"
      },
      "source": [
        "<a href=\"https://colab.research.google.com/github/ripunjaysingh88/ML_Model_from_Scratch/blob/main/Neural_Network_FF.ipynb\" target=\"_parent\"><img src=\"https://colab.research.google.com/assets/colab-badge.svg\" alt=\"Open In Colab\"/></a>"
      ]
    },
    {
      "cell_type": "code",
      "metadata": {
        "colab": {
          "base_uri": "https://localhost:8080/"
        },
        "id": "y_77pZpAzVcu",
        "outputId": "4a4d81ce-af22-469f-aaca-822746c5e963"
      },
      "source": [
        "from google.colab import drive\n",
        "drive.mount('/content/grive/')"
      ],
      "execution_count": 1,
      "outputs": [
        {
          "output_type": "stream",
          "name": "stdout",
          "text": [
            "Mounted at /content/grive/\n"
          ]
        }
      ]
    },
    {
      "cell_type": "code",
      "metadata": {
        "id": "YkVpB_cX815V"
      },
      "source": [
        "import matplotlib.pyplot as plt\n",
        "import numpy as np\n",
        "import pandas as pd\n",
        "import h5py\n"
      ],
      "execution_count": 17,
      "outputs": []
    },
    {
      "cell_type": "markdown",
      "metadata": {
        "id": "cxu1ar8IwslH"
      },
      "source": [
        "#Data : Coursera programming assignment\n",
        "- a training set of m_train images labelled as cat (1) or non-cat (0)\n",
        "- a test set of m_test images labelled as cat and non-cat\n",
        "- each image is of shape (num_px, num_px, 3) where 3 is for the 3 channels (RGB)"
      ]
    },
    {
      "cell_type": "code",
      "metadata": {
        "id": "FMV1-vek82s-"
      },
      "source": [
        "#load train data\n",
        "train_dataset = h5py.File('/content/grive/MyDrive/ML_model_scratch/FF_NN/train_catvnoncat.h5', \"r\")\n",
        "train_x_original = np.array(train_dataset[\"train_set_x\"][:])\n",
        "y_train = np.array(train_dataset[\"train_set_y\"][:])"
      ],
      "execution_count": 18,
      "outputs": []
    },
    {
      "cell_type": "code",
      "metadata": {
        "colab": {
          "base_uri": "https://localhost:8080/"
        },
        "id": "Ioq5wROH823P",
        "outputId": "1ca608f5-5a37-4df8-e9fa-d7b87c69af45"
      },
      "source": [
        "train_x_original.shape\n"
      ],
      "execution_count": 19,
      "outputs": [
        {
          "output_type": "execute_result",
          "data": {
            "text/plain": [
              "(209, 64, 64, 3)"
            ]
          },
          "metadata": {},
          "execution_count": 19
        }
      ]
    },
    {
      "cell_type": "code",
      "metadata": {
        "colab": {
          "base_uri": "https://localhost:8080/"
        },
        "id": "zp2L-yHw83H8",
        "outputId": "abd39901-5a80-4773-8d99-021665273bfa"
      },
      "source": [
        "y_train.shape\n"
      ],
      "execution_count": 20,
      "outputs": [
        {
          "output_type": "execute_result",
          "data": {
            "text/plain": [
              "(209,)"
            ]
          },
          "metadata": {},
          "execution_count": 20
        }
      ]
    },
    {
      "cell_type": "code",
      "metadata": {
        "id": "_DY9d1F-83Xb"
      },
      "source": [
        "#load test data\n",
        "test_dataset = h5py.File('/content/grive/MyDrive/ML_model_scratch/FF_NN/test_catvnoncat.h5', \"r\")\n",
        "test_x_original = np.array(test_dataset[\"test_set_x\"][:]) \n",
        "y_test = np.array(test_dataset[\"test_set_y\"][:])"
      ],
      "execution_count": 21,
      "outputs": []
    },
    {
      "cell_type": "code",
      "metadata": {
        "colab": {
          "base_uri": "https://localhost:8080/"
        },
        "id": "ilyl0QoT5UCq",
        "outputId": "773cecfc-483a-40b6-805d-b0075f3ee83b"
      },
      "source": [
        "test_x_original.shape"
      ],
      "execution_count": 22,
      "outputs": [
        {
          "output_type": "execute_result",
          "data": {
            "text/plain": [
              "(50, 64, 64, 3)"
            ]
          },
          "metadata": {},
          "execution_count": 22
        }
      ]
    },
    {
      "cell_type": "code",
      "metadata": {
        "colab": {
          "base_uri": "https://localhost:8080/"
        },
        "id": "-nr_h4GC4iYM",
        "outputId": "4764ba33-3767-4f65-9adc-3ffe93989f5c"
      },
      "source": [
        "y_test.shape"
      ],
      "execution_count": 23,
      "outputs": [
        {
          "output_type": "execute_result",
          "data": {
            "text/plain": [
              "(50,)"
            ]
          },
          "metadata": {},
          "execution_count": 23
        }
      ]
    },
    {
      "cell_type": "code",
      "metadata": {
        "colab": {
          "base_uri": "https://localhost:8080/"
        },
        "id": "H9XgxfSn83jz",
        "outputId": "69393393-fc2e-4dcf-f4da-f34fe4da133e"
      },
      "source": [
        "# non-cat_label = 0 , cat_label = 1\n",
        "classes = np.array(test_dataset[\"list_classes\"][:])\n",
        "classes"
      ],
      "execution_count": 24,
      "outputs": [
        {
          "output_type": "execute_result",
          "data": {
            "text/plain": [
              "array([b'non-cat', b'cat'], dtype='|S7')"
            ]
          },
          "metadata": {},
          "execution_count": 24
        }
      ]
    },
    {
      "cell_type": "code",
      "metadata": {
        "colab": {
          "base_uri": "https://localhost:8080/"
        },
        "id": "TJEhbOze84Ct",
        "outputId": "b1f709eb-5eea-42ff-b735-41471cea91f2"
      },
      "source": [
        "#reshape 1D train_y to 2D.\n",
        "y_train = y_train.reshape(1, y_train.shape[0])\n",
        "y_train.shape"
      ],
      "execution_count": 25,
      "outputs": [
        {
          "output_type": "execute_result",
          "data": {
            "text/plain": [
              "(1, 209)"
            ]
          },
          "metadata": {},
          "execution_count": 25
        }
      ]
    },
    {
      "cell_type": "code",
      "metadata": {
        "colab": {
          "base_uri": "https://localhost:8080/"
        },
        "id": "7IXER5NJ84Qa",
        "outputId": "fccb8d73-e401-4d70-ce97-1932675a0cc2"
      },
      "source": [
        "#reshape 1D test_y to 2D.\n",
        "y_test = y_test.reshape(1, y_test.shape[0])\n",
        "y_test.shape"
      ],
      "execution_count": 26,
      "outputs": [
        {
          "output_type": "execute_result",
          "data": {
            "text/plain": [
              "(1, 50)"
            ]
          },
          "metadata": {},
          "execution_count": 26
        }
      ]
    },
    {
      "cell_type": "code",
      "metadata": {
        "colab": {
          "base_uri": "https://localhost:8080/"
        },
        "id": "pipteE1O84fJ",
        "outputId": "58335c35-2c42-480c-afc4-3acfc58ebc1c"
      },
      "source": [
        "#flatten the train_x_orginal and reshape to (#no of features, #no of samples)\n",
        "train_x_original = train_x_original.reshape(train_x_original.shape[0], -1).T\n",
        "train_x_original.shape"
      ],
      "execution_count": 27,
      "outputs": [
        {
          "output_type": "execute_result",
          "data": {
            "text/plain": [
              "(12288, 209)"
            ]
          },
          "metadata": {},
          "execution_count": 27
        }
      ]
    },
    {
      "cell_type": "code",
      "metadata": {
        "colab": {
          "base_uri": "https://localhost:8080/"
        },
        "id": "OrhOuqtoBix7",
        "outputId": "9d4eb060-b87f-40b9-abe9-91c335dc2aca"
      },
      "source": [
        "#flatten the test_x_orginal and reshape to (#no of features, #no of samples)\n",
        "test_x_original = test_x_original.reshape(test_x_original.shape[0], -1).T\n",
        "test_x_original.shape"
      ],
      "execution_count": 28,
      "outputs": [
        {
          "output_type": "execute_result",
          "data": {
            "text/plain": [
              "(12288, 50)"
            ]
          },
          "metadata": {},
          "execution_count": 28
        }
      ]
    },
    {
      "cell_type": "code",
      "metadata": {
        "colab": {
          "base_uri": "https://localhost:8080/"
        },
        "id": "H6zuZa5SCCJ0",
        "outputId": "0daafb46-7fd5-4aac-c42c-fd694577127a"
      },
      "source": [
        "#normalization so that pixel value in range between 0 and 1.\n",
        "X_train = train_x_original/255\n",
        "X_train.shape"
      ],
      "execution_count": 29,
      "outputs": [
        {
          "output_type": "execute_result",
          "data": {
            "text/plain": [
              "(12288, 209)"
            ]
          },
          "metadata": {},
          "execution_count": 29
        }
      ]
    },
    {
      "cell_type": "code",
      "metadata": {
        "colab": {
          "base_uri": "https://localhost:8080/"
        },
        "id": "DItDAb--CCNt",
        "outputId": "f97f0689-45f0-4fe4-f3c5-588ae81d2a11"
      },
      "source": [
        "#normalization so that pixel value in range between 0 and 1.\n",
        "X_test = test_x_original/255\n",
        "X_test.shape"
      ],
      "execution_count": 30,
      "outputs": [
        {
          "output_type": "execute_result",
          "data": {
            "text/plain": [
              "(12288, 50)"
            ]
          },
          "metadata": {},
          "execution_count": 30
        }
      ]
    },
    {
      "cell_type": "markdown",
      "metadata": {
        "id": "Yy0qrGQ0aBOw"
      },
      "source": [
        "#2-layer neural network"
      ]
    },
    {
      "cell_type": "markdown",
      "metadata": {
        "id": "G4REWgtQmCFd"
      },
      "source": [
        "1. Initialize parameters\n",
        "2. Loop for num_iterations (Gradient Descent):\n",
        "\n",
        "    a. Forward propagation\n",
        "\n",
        "    b. Compute cost function\n",
        "\n",
        "    c. Backward propagation\n",
        "    \n",
        "    d. Update parameters \n",
        "3. Use trained parameters to predict labels"
      ]
    },
    {
      "cell_type": "code",
      "metadata": {
        "id": "NYCg3QUKCCX6"
      },
      "source": [
        "#constant parameters \n",
        "n_x = 12288 # input X\n",
        "n_h = 7 # layer_1 hidden units\n",
        "n_y = 1 # output layer unit\n",
        "layer_dim = (n_x, n_h, n_y)"
      ],
      "execution_count": 31,
      "outputs": []
    },
    {
      "cell_type": "code",
      "metadata": {
        "id": "zhM_VW4KCCab"
      },
      "source": [
        "class Neural_Network:\n",
        "  def __init__(self, learning_rate, num_iterations):\n",
        "    self.learning_rate = learning_rate\n",
        "    self.num_iterations = num_iterations\n",
        "\n",
        "  def initialize_parameters(self, n_x, n_h, n_y):\n",
        "    network_parameters = {}\n",
        "    #random number generated from standard gaussian with mean 0 and standard deviation 0.01\n",
        "    W1 = np.random.randn(n_h, n_x)*0.01\n",
        "    b1 = np.zeros((n_h, 1))\n",
        "    W2 = np.random.randn(n_y, n_h)*0.01\n",
        "    b2 = np.zeros((n_y, 1))\n",
        "\n",
        "    #he assert statement is used to continue the execute below code if the given condition evaluates to True. If False then raise error.\n",
        "    assert (W1.shape == (n_h, n_x))\n",
        "    assert (b1.shape == (n_h, 1))\n",
        "    assert (W2.shape == (n_y, n_h))\n",
        "    assert (b2.shape == (n_y, 1))\n",
        "\n",
        "    network_parameters = {'W1':W1,\n",
        "                          'b1':b1,\n",
        "                          'W2':W2,\n",
        "                          'b2':b2}\n",
        "    return network_parameters\n",
        "\n",
        "\n",
        "  def forward_propogation(self, A_prev, W, b, activation_fun):\n",
        "    if activation_fun == 'relu':\n",
        "      #linear combination of weights and features\n",
        "      Z = np.dot(W, A_prev) + b\n",
        "      # check the shape of Z before executing below codes\n",
        "      assert (Z.shape == (W.shape[0], A_prev.shape[1]))\n",
        "      #present layer activation output -relu\n",
        "      activation = np.maximum(0,Z)\n",
        "    \n",
        "    elif activation_fun == 'sigmoid':\n",
        "      #linear\n",
        "      Z = np.dot(W, A_prev) + b\n",
        "      # check the shape of Z \n",
        "      assert (Z.shape == (W.shape[0], A_prev.shape[1]))\n",
        "      #present layer activation output -sifmoid\n",
        "      activation = 1/(1+ np.exp(-Z))\n",
        "\n",
        "    #caching for backpropogation step\n",
        "    linear_cache = (A_prev, W, b)\n",
        "    activation_cache = Z\n",
        "\n",
        "    cache = (linear_cache, activation_cache)\n",
        "    return activation , cache\n",
        "\n",
        "  def compute_training_loss(self, A2, Y):\n",
        "    m = Y.shape[0]\n",
        "    #loss value for whole training set i.e '1/m' used.\n",
        "    loss_value = -1/m * (np.dot(Y, np.log(A2).T) + np.dot(1-Y, np.log(1-A2).T))\n",
        "\n",
        "    #remove all the dimension and gives just scalar value i.e [[88]] is given as 88. \n",
        "    loss_value = np.squeeze(loss_value)\n",
        "\n",
        "    assert (loss_value.shape == ())\n",
        "    return loss_value\n",
        "\n",
        "\n",
        "  def backward_propogation(self, dA, cache, activation_fun):\n",
        "\n",
        "    linear_cache , activation_cache = cache\n",
        "    \n",
        "    if activation_fun == 'sigmoid':\n",
        "      #compute dZ to calculate dW and db.\n",
        "      Z = activation_cache\n",
        "      s = 1/(1 + np.exp(-Z)) \n",
        "      dZ = dA*s*(1-s)\n",
        "      assert (dZ.shape == Z.shape)\n",
        "      #compute dW,dB and dA_prev\n",
        "      A_prev , W , b = linear_cache\n",
        "      m = A_prev.shape[1] # number of training samples.\n",
        "      dW = 1/m * np.dot(dZ, A_prev.T)\n",
        "      db = 1/m * np.sum(dZ, axis =1, keepdims=True)\n",
        "      dA_prev = np.dot(W.T, dZ)  #A_prev is what we cached, in backpropogation gives output one of which is dA_prev.\n",
        "      assert (dW.shape == W.shape)\n",
        "      assert (db.shape == b.shape)\n",
        "      assert (dA_prev.shape == A_prev.shape)\n",
        "\n",
        "    elif activation_fun == 'relu':\n",
        "      #compute dZ\n",
        "      Z = activation_cache\n",
        "      #relu derivative is 1 if Z >0 else it's 0. First assume all the values of Z are postive and calculate dZ then replace \n",
        "      #all the values of dZ where  Z was less than 0.\n",
        "      dZ = np.copy(dA) # since derivative is 1.\n",
        "      #set all the values to 0 where Z<=0.\n",
        "      dZ[Z<=0] = 0\n",
        "      assert (dZ.shape == Z.shape)\n",
        "      #compute dW,dB and dA_prev\n",
        "      A_prev , W , b = linear_cache\n",
        "      m = A_prev.shape[1] # number of training samples.\n",
        "      dW = 1/m * np.dot(dZ, A_prev.T)\n",
        "      db = 1/m * np.sum(dZ, axis =1, keepdims=True)\n",
        "      dA_prev = np.dot(W.T, dZ)  #A_prev is what we cached, in backpropogation gives output one of which is dA_prev.\n",
        "      assert (dW.shape == W.shape)\n",
        "      assert (db.shape == b.shape)\n",
        "      assert (dA_prev.shape == A_prev.shape)\n",
        "\n",
        "    return dA_prev, dW, db\n",
        "\n",
        "  def update_parameters(self, network_parameters, gradient, learning_rate):\n",
        "    network_parameters_updated = {}\n",
        "\n",
        "    W1 = network_parameters['W1']\n",
        "    b1 = network_parameters['b1']\n",
        "    W2 = network_parameters['W2']\n",
        "    b2 = network_parameters['b2']\n",
        "\n",
        "    dW1 = gradient['dW1'] \n",
        "    db1 = gradient['db1']  \n",
        "    dW2 = gradient['dW2']  \n",
        "    db2 = gradient['db2'] \n",
        "\n",
        "    W1 = W1 - learning_rate*dW1\n",
        "    b1 = b1 - learning_rate*db1\n",
        "    W2 = W2 - learning_rate*dW2\n",
        "    b2 = b2 - learning_rate*db2\n",
        "\n",
        "    network_parameters_updated = {'W1': W1,\n",
        "                                  'b1': b1,\n",
        "                                  'W2': W2,\n",
        "                                  'b2': b2}\n",
        "\n",
        "    return network_parameters_updated\n",
        "\n",
        "\n",
        "  def fit(self, X, Y, layer_dim):\n",
        "    gradient = {}\n",
        "    training_loss = []\n",
        "    n_x, n_h, n_y = layer_dim\n",
        "    \n",
        "    #parameter intialization\n",
        "    network_parameters = self.initialize_parameters(n_x, n_h, n_y) # returns dictionary\n",
        "    W1 = network_parameters['W1']\n",
        "    b1 = network_parameters['b1']\n",
        "    W2 = network_parameters['W2']\n",
        "    b2 = network_parameters['b2']\n",
        "\n",
        "    #gradient descent\n",
        "    for i in range(self.num_iterations):\n",
        "       #forward propogation\n",
        "       A1, cache1 = self.forward_propogation(X, W1, b1, activation_fun = 'relu')\n",
        "       A2, cache2 = self.forward_propogation(A1, W2, b2, activation_fun = 'sigmoid')\n",
        "\n",
        "       #calculate loss for whole training set once forward propogation of all layer is over.\n",
        "       loss_value = self.compute_training_loss(A2, Y)\n",
        "       if i%100 == 0 :\n",
        "          training_loss.append(loss_value)\n",
        "          print(\"Training loss after {} iteration : {}\".format(i, np.squeeze(loss_value)))\n",
        "      \n",
        "       #backward propogation\n",
        "       dA2 = -(np.divide(Y, A2) - np.divide(1-Y, 1-A2))\n",
        "       dA1, dW2, db2 = self.backward_propogation(dA2, cache2, activation_fun = 'sigmoid')#passing activation because it need to calculate dZ for dW and db calculation.\n",
        "       dA0, dW1, db1 = self.backward_propogation(dA1, cache1, activation_fun = 'relu') #passing activation because it need to calculate dZ for dW and db calculation.\n",
        "            #store gradient in dictionary to update parameters, after each iteration new values are stored in respective key's.\n",
        "       gradient['dW1'] = dW1\n",
        "       gradient['db1'] = db1\n",
        "       gradient['dW2'] = dW2\n",
        "       gradient['db2'] = db2\n",
        "\n",
        "       #update the parameters, return value of update_parameters() has to be stored in same variable 'network_parameteres' as we are calling this variable\n",
        "       # recursively in update_parameters().\n",
        "       network_parameters = self.update_parameters(network_parameters, gradient, self.learning_rate) #returns dictionary\n",
        "            #reset the parameters for next iteration\n",
        "       W1 = network_parameters['W1']\n",
        "       b1 = network_parameters['b1']\n",
        "       W2 = network_parameters['W2']\n",
        "       b2 = network_parameters['b2']\n",
        "\n",
        "\n",
        "    #plot the training loss vs number of iteration(per hundreds)\n",
        "    plt.figure(figsize=(8,8))\n",
        "    plt.plot(training_loss, label = 'Training_loss')\n",
        "    plt.legend(loc = 'upper right')\n",
        "    plt.ylabel('Loss')\n",
        "    plt.xlabel('Iteration (per hundreds')      \n",
        "\n",
        "    return network_parameters\n",
        "\n",
        "  def predict(self, X_test, Y_test, trained_network_parameters):\n",
        "    W1 = trained_network_parameters['W1']\n",
        "    b1 = trained_network_parameters['b1']\n",
        "    W2 = trained_network_parameters['W2']\n",
        "    b2 = trained_network_parameters['b2']\n",
        "    m  = X_test.shape[1]\n",
        "\n",
        "    A1, cache1 = self.forward_propogation(X_test, W1, b1, activation_fun = 'relu')\n",
        "    A2, cache2 = self.forward_propogation(A1, W2, b2, activation_fun = 'sigmoid')\n",
        "\n",
        "    Y_pred = np.where(A2>0.5, 1, 0)\n",
        "    print(\"Accuracy : {}\".format((np.sum(Y_pred == Y_test))/m))\n"
      ],
      "execution_count": 107,
      "outputs": []
    },
    {
      "cell_type": "code",
      "metadata": {
        "colab": {
          "base_uri": "https://localhost:8080/",
          "height": 905
        },
        "id": "5qhp5Ks872xu",
        "outputId": "1baa1e04-2a56-49ac-f721-25d905e8f9bf"
      },
      "source": [
        "#call the Neural_Network class\n",
        "neural = Neural_Network(0.0075, 2400)\n",
        "network_parameters = neural.fit(X_train, y_train, layer_dim)"
      ],
      "execution_count": 108,
      "outputs": [
        {
          "output_type": "stream",
          "name": "stdout",
          "text": [
            "Training loss after 0 iteration : 144.42317017401328\n",
            "Training loss after 100 iteration : 134.95017216266592\n",
            "Training loss after 200 iteration : 131.67635667494434\n",
            "Training loss after 300 iteration : 124.58129853971107\n",
            "Training loss after 400 iteration : 114.92553968834211\n",
            "Training loss after 500 iteration : 103.34349268499763\n",
            "Training loss after 600 iteration : 90.26300349863519\n",
            "Training loss after 700 iteration : 78.99022409741926\n",
            "Training loss after 800 iteration : 78.8315343786773\n",
            "Training loss after 900 iteration : 73.99368644172615\n",
            "Training loss after 1000 iteration : 67.96460718126089\n",
            "Training loss after 1100 iteration : 61.71075729883958\n",
            "Training loss after 1200 iteration : 54.941432305272684\n",
            "Training loss after 1300 iteration : 37.18072479821775\n",
            "Training loss after 1400 iteration : 28.09921493183179\n",
            "Training loss after 1500 iteration : 46.30895152864121\n",
            "Training loss after 1600 iteration : 20.001679748016187\n",
            "Training loss after 1700 iteration : 18.0279073949027\n",
            "Training loss after 1800 iteration : 14.622863747682938\n",
            "Training loss after 1900 iteration : 12.579613045307504\n",
            "Training loss after 2000 iteration : 10.89543189364122\n",
            "Training loss after 2100 iteration : 9.640933152397672\n",
            "Training loss after 2200 iteration : 8.537147541551896\n",
            "Training loss after 2300 iteration : 7.648398111889196\n"
          ]
        },
        {
          "output_type": "display_data",
          "data": {
            "image/png": "[encoded data removed]",
            "text/plain": [
              "<Figure size 576x576 with 1 Axes>"
            ]
          },
          "metadata": {
            "needs_background": "light"
          }
        }
      ]
    },
    {
      "cell_type": "code",
      "metadata": {
        "colab": {
          "base_uri": "https://localhost:8080/"
        },
        "id": "UQezHmQhTbDm",
        "outputId": "8cb73844-bb71-4030-bb90-d4517227cb1e"
      },
      "source": [
        "neural.predict(X_train, y_train, network_parameters)"
      ],
      "execution_count": 109,
      "outputs": [
        {
          "output_type": "stream",
          "name": "stdout",
          "text": [
            "Accuracy : 1.0\n"
          ]
        }
      ]
    },
    {
      "cell_type": "code",
      "metadata": {
        "colab": {
          "base_uri": "https://localhost:8080/"
        },
        "id": "lOucn8NiaByx",
        "outputId": "505c402e-6d4e-4f57-e5f2-850c21d90452"
      },
      "source": [
        "neural.predict(X_test, y_test, network_parameters)"
      ],
      "execution_count": 110,
      "outputs": [
        {
          "output_type": "stream",
          "name": "stdout",
          "text": [
            "Accuracy : 0.72\n"
          ]
        }
      ]
    },
    {
      "cell_type": "code",
      "metadata": {
        "id": "f4V0aq1WyQSX"
      },
      "source": [
        ""
      ],
      "execution_count": null,
      "outputs": []
    }
  ]
}